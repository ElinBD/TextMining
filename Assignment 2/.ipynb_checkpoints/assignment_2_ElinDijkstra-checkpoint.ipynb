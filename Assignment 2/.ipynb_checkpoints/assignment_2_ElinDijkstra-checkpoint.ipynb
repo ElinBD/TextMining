{
 "cells": [
  {
   "cell_type": "markdown",
   "metadata": {},
   "source": [
    "# Text Mining Hand-In Assignment 2\n",
    "\n",
    "Student: Elin Benja Dijkstra (s2696096)"
   ]
  },
  {
   "cell_type": "markdown",
   "metadata": {},
   "source": [
    "## Import needed packages"
   ]
  },
  {
   "cell_type": "code",
   "execution_count": 1,
   "metadata": {},
   "outputs": [],
   "source": [
    "%matplotlib inline\n",
    "import matplotlib.pyplot as plt\n",
    "plt.style.use('ggplot')"
   ]
  },
  {
   "cell_type": "code",
   "execution_count": 2,
   "metadata": {},
   "outputs": [],
   "source": [
    "from itertools import chain\n",
    "\n",
    "import nltk\n",
    "import sklearn\n",
    "import scipy.stats\n",
    "import os\n",
    "import numpy as np\n",
    "import re \n",
    "import pandas as pd\n",
    "\n",
    "from sklearn.model_selection import GroupKFold\n",
    "from sklearn.model_selection import cross_val_score\n",
    "from sklearn.model_selection import RandomizedSearchCV\n",
    "from sklearn.feature_extraction.text import TfidfVectorizer\n",
    "from sklearn.metrics import make_scorer\n",
    "from sklearn.model_selection import cross_val_predict\n",
    "\n",
    "import sklearn_crfsuite\n",
    "from sklearn_crfsuite import scorers\n",
    "from sklearn_crfsuite import metrics\n",
    "\n",
    "from collections import Counter, OrderedDict\n",
    "from itertools import groupby\n"
   ]
  },
  {
   "cell_type": "markdown",
   "metadata": {},
   "source": [
    "## Load and process the data"
   ]
  },
  {
   "cell_type": "markdown",
   "metadata": {},
   "source": [
    "The bio files are basically text files. I read in one document at a time, line by line and turn each line to a tuple. If it occurs that the tuple is not of length 3, do not add it to our data. \n",
    "\n",
    "We end up with a list of lists of length 22."
   ]
  },
  {
   "cell_type": "code",
   "execution_count": 3,
   "metadata": {},
   "outputs": [],
   "source": [
    "def load_process_data():\n",
    "    path = os.getcwd() + \"/bio\"\n",
    "    file_array = []\n",
    "    missingvalues_array = []\n",
    "    for filename in os.listdir(path):\n",
    "        file  = open(path + \"/\" + filename, 'r', encoding='utf-8')\n",
    "        triple_array = []\n",
    "        missingvalues = 0\n",
    "        for line in file.readlines():\n",
    "            line = tuple(line.split())\n",
    "            if (len(line) == 3): # only add tri tuples\n",
    "                triple_array.append(line) # add to the list of a specific file\n",
    "            else: missingvalues +=1\n",
    "        missingvalues_array.append(missingvalues)\n",
    "        file_array.append(triple_array) # add to the list of files\n",
    "    \n",
    "    print(\"Missing values\\n\", missingvalues_array)\n",
    "    return file_array"
   ]
  },
  {
   "cell_type": "markdown",
   "metadata": {},
   "source": [
    "## Features\n",
    "\n",
    "Next, define some features. In this example we use word identity, word suffix, word shape and word POS tag; also, some information from nearby words is used. \n",
    "\n",
    "This makes a simple baseline, but you certainly can add and remove some features to get (much?) better results - experiment with it.\n",
    "\n",
    "sklearn-crfsuite (and python-crfsuite) supports several feature formats; here we use feature dicts."
   ]
  },
  {
   "cell_type": "code",
   "execution_count": 4,
   "metadata": {},
   "outputs": [],
   "source": [
    "def word2features(sent, i):\n",
    "    word = sent[i][0]\n",
    "    postag = sent[i][1]\n",
    "    \n",
    "    features = {\n",
    "        'bias': 1.0,\n",
    "        'word.lower()': word.lower(),\n",
    "        'word[-3:]': word[-3:],\n",
    "        'word[-2:]': word[-2:],\n",
    "        'word.isupper()': word.isupper(),\n",
    "        'word.istitle()': word.istitle(),\n",
    "        'word.isdigit()': word.isdigit(),\n",
    "        'postag': postag,\n",
    "        'postag[:2]': postag[:2],        \n",
    "    }\n",
    "    if i > 0:\n",
    "        word1 = sent[i-1][0]\n",
    "        postag1 = sent[i-1][1]\n",
    "        features.update({\n",
    "            '-1:word.lower()': word1.lower(),\n",
    "            '-1:word.istitle()': word1.istitle(),\n",
    "            '-1:word.isupper()': word1.isupper(),\n",
    "            '-1:postag': postag1,\n",
    "            '-1:postag[:2]': postag1[:2],\n",
    "        })\n",
    "    else:\n",
    "        features['BOS'] = True\n",
    "        \n",
    "    if i < len(sent)-1:\n",
    "        word1 = sent[i+1][0]\n",
    "        postag1 = sent[i+1][1]\n",
    "        features.update({\n",
    "            '+1:word.lower()': word1.lower(),\n",
    "            '+1:word.istitle()': word1.istitle(),\n",
    "            '+1:word.isupper()': word1.isupper(),\n",
    "            '+1:postag': postag1,\n",
    "            '+1:postag[:2]': postag1[:2],\n",
    "        })\n",
    "    else:\n",
    "        features['EOS'] = True\n",
    "                \n",
    "    return features\n",
    "\n",
    "\n",
    "def sent2features(sent):\n",
    "    return [word2features(sent, i) for i in range(len(sent))]\n",
    "\n",
    "def sent2labels(sent):\n",
    "    return [label for token, postag, label in sent]\n",
    "\n",
    "def sent2tokens(sent):\n",
    "    return [token for token, postag, label in sent]"
   ]
  },
  {
   "cell_type": "markdown",
   "metadata": {},
   "source": [
    "Extract features from the data:"
   ]
  },
  {
   "cell_type": "code",
   "execution_count": 5,
   "metadata": {},
   "outputs": [],
   "source": [
    "def extract_features(data):\n",
    "    X = [sent2features(s) for s in data]\n",
    "    y = [sent2labels(s) for s in data]\n",
    "    \n",
    "    return X, y"
   ]
  },
  {
   "cell_type": "markdown",
   "metadata": {},
   "source": [
    "## Data Exploration"
   ]
  },
  {
   "cell_type": "code",
   "execution_count": 6,
   "metadata": {},
   "outputs": [],
   "source": [
    "def data_exploration(data):\n",
    "#     words = []\n",
    "#     for document in data:\n",
    "#         words.append([word for (word, postag, label) in document])\n",
    "        \n",
    "#     words_transformed = [\" \".join(x) for x in words]\n",
    "#     vectorizer = TfidfVectorizer(stop_words = 'english')\n",
    "#     tfidf_vectorizer_vectors = vectorizer.fit_transform(words_transformed)\n",
    "#     # get the first vector out (for the first document)\n",
    "#     first_vector_tfidfvectorizer=tfidf_vectorizer_vectors[0]\n",
    "\n",
    "#     # place tf-idf values in a pandas data frame\n",
    "#     df = pd.DataFrame(first_vector_tfidfvectorizer.T.todense(), index=vectorizer.get_feature_names(), columns=[\"tfidf\"])\n",
    "#     sorted_df = df.sort_values(by=[\"tfidf\"],ascending=False).head(15) \n",
    "#     display(sorted_df)\n",
    "#     plt.barh(y = sorted_df.index, width = sorted_df.tfidf)\n",
    "#     plt.title(\"Top 15 TF-IDF scores for document 1\")\n",
    "    \n",
    "    postags = []\n",
    "    for document in data:\n",
    "        for line in document:\n",
    "            postags.append(line[1])\n",
    "    \n",
    "    counter=Counter(postags)\n",
    "    counter = OrderedDict(counter.most_common(15))\n",
    "    keys = [str(e) for e in list(counter.keys())]\n",
    "    plt.figure(figsize = (15,8))\n",
    "    plt.barh(y = keys, width = list(counter.values()))\n",
    "    # fontsize of the x and y labels\n",
    "    plt.rc('ytick', labelsize=20) \n",
    "    plt.title(\"Frequency of POStags\")\n",
    "    \n",
    "        "
   ]
  },
  {
   "cell_type": "markdown",
   "metadata": {},
   "source": [
    "## Training\n",
    "\n",
    "To see all possible CRF parameters check its docstring. Here we are useing L-BFGS training algorithm (it is default) with Elastic Net (L1 + L2) regularization."
   ]
  },
  {
   "cell_type": "code",
   "execution_count": 7,
   "metadata": {},
   "outputs": [],
   "source": [
    "def train(X_train, y_train):\n",
    "    crf = sklearn_crfsuite.CRF(\n",
    "        algorithm='lbfgs', \n",
    "        c1=0.1, \n",
    "        c2=0.1, \n",
    "        max_iterations=100, \n",
    "        all_possible_transitions=True\n",
    "    )\n",
    "    crf.fit(X_train, y_train)\n",
    "    return crf"
   ]
  },
  {
   "cell_type": "markdown",
   "metadata": {},
   "source": [
    "## Evaluation\n",
    "\n",
    "There is much more O entities in data set, but we're more interested in other entities. To account for this we'll use averaged F1 score computed for all labels except for O. ``sklearn-crfsuite.metrics`` package provides some useful metrics for sequence classification task, including this one."
   ]
  },
  {
   "cell_type": "code",
   "execution_count": 8,
   "metadata": {},
   "outputs": [],
   "source": [
    "def remove_o(crf):\n",
    "    labels = list(crf.classes_)\n",
    "    labels.remove('O')\n",
    "    return labels"
   ]
  },
  {
   "cell_type": "markdown",
   "metadata": {},
   "source": [
    "Inspect per-class results in more detail:"
   ]
  },
  {
   "cell_type": "code",
   "execution_count": 9,
   "metadata": {},
   "outputs": [],
   "source": [
    "def evaluate(crf, X_test, y_test):\n",
    "    labels = remove_o(crf)\n",
    "    y_pred = crf.predict(X_test)\n",
    "\n",
    "    metrics.flat_f1_score(y_test, y_pred, \n",
    "                          average='weighted', labels=labels)\n",
    "\n",
    "    # group B and I results\n",
    "    sorted_labels = sorted(\n",
    "        labels, \n",
    "        key=lambda name: (name[1:], name[0])\n",
    "    )\n",
    "    print(metrics.flat_classification_report(\n",
    "        y_test, y_pred, labels=sorted_labels, digits=3\n",
    "    ))\n",
    "    return y_pred, labels"
   ]
  },
  {
   "cell_type": "markdown",
   "metadata": {},
   "source": [
    "## Hyperparameter Search"
   ]
  },
  {
   "cell_type": "code",
   "execution_count": 10,
   "metadata": {},
   "outputs": [],
   "source": [
    "def hyperparameter_search(X_train, y_train, labels):\n",
    "    %%time\n",
    "    # define fixed parameters and parameters to search\n",
    "    crf = sklearn_crfsuite.CRF(\n",
    "        algorithm='lbfgs', \n",
    "        max_iterations=50, \n",
    "        all_possible_transitions=True\n",
    "    )\n",
    "    params_space = {\n",
    "        'c1': scipy.stats.expon(scale=0.5),\n",
    "        'c2': scipy.stats.expon(scale=0.05),\n",
    "    }\n",
    "\n",
    "    # use the same metric for evaluation\n",
    "    f1_scorer = make_scorer(metrics.flat_f1_score, \n",
    "                            average='weighted', labels=labels)\n",
    "\n",
    "    group_kfold = GroupKFold(n_splits=5)\n",
    "    # search\n",
    "    rs = RandomizedSearchCV(crf, params_space, \n",
    "                            cv=group_kfold, \n",
    "                            verbose=3, \n",
    "                            n_jobs=-1, \n",
    "                            n_iter=20, \n",
    "                            scoring=f1_scorer)\n",
    "    rs.fit(X_train, y_train, groups = list(range(len(X_train))))\n",
    "    \n",
    "    crf = rs.best_estimator_\n",
    "    print('best params:', rs.best_params_)\n",
    "    print('best CV score:', rs.best_score_)\n",
    "    print('model size: {:0.2f}M'.format(crf.size_ / 1000000))\n",
    "    \n",
    "    return crf"
   ]
  },
  {
   "cell_type": "code",
   "execution_count": 11,
   "metadata": {},
   "outputs": [],
   "source": [
    "def print_transitions(trans_features):\n",
    "    for (label_from, label_to), weight in trans_features:\n",
    "        print(\"%-6s -> %-7s %0.6f\" % (label_from, label_to, weight))"
   ]
  },
  {
   "cell_type": "code",
   "execution_count": 12,
   "metadata": {},
   "outputs": [],
   "source": [
    "def print_state_features(state_features):\n",
    "    for (attr, label), weight in state_features:\n",
    "        print(\"%0.6f %-8s %s\" % (weight, label, attr))    "
   ]
  },
  {
   "cell_type": "markdown",
   "metadata": {},
   "source": [
    "## Start the run"
   ]
  },
  {
   "cell_type": "code",
   "execution_count": 13,
   "metadata": {},
   "outputs": [
    {
     "name": "stdout",
     "output_type": "stream",
     "text": [
      "Missing values\n",
      " [1, 17, 0, 2, 5, 8, 1, 1, 1, 1, 8, 5, 0, 1, 17, 28, 3, 3, 1, 2, 13, 5]\n"
     ]
    },
    {
     "data": {
      "image/png": "[encoded data removed]",
      "text/plain": [
       "<Figure size 1080x576 with 1 Axes>"
      ]
     },
     "metadata": {
      "needs_background": "light"
     },
     "output_type": "display_data"
    }
   ],
   "source": [
    "data = load_process_data()\n",
    "X, y = extract_features(data)\n",
    "data_exploration(data)\n"
   ]
  },
  {
   "cell_type": "code",
   "execution_count": 14,
   "metadata": {},
   "outputs": [],
   "source": [
    "def main():\n",
    "    group_kfold = GroupKFold(n_splits=5)\n",
    "    for train_index, test_index in group_kfold.split(data, groups = list(range(22))):\n",
    "        X_train = np.array(X)[train_index]\n",
    "        y_train = np.array(y)[train_index]\n",
    "        init_fit = train(X_train, y_train)\n",
    "        labels = remove_o(init_fit)\n",
    "        best_crf = hyperparameter_search(X_train, y_train, labels)\n",
    "        evaluate(best_crf, np.array(X)[test_index], np.array(y)[test_index])"
   ]
  },
  {
   "cell_type": "code",
   "execution_count": 15,
   "metadata": {},
   "outputs": [
    {
     "name": "stdout",
     "output_type": "stream",
     "text": [
      "Wall time: 0 ns\n",
      "Fitting 5 folds for each of 20 candidates, totalling 100 fits\n"
     ]
    },
    {
     "name": "stderr",
     "output_type": "stream",
     "text": [
      "[Parallel(n_jobs=-1)]: Using backend LokyBackend with 4 concurrent workers.\n",
      "[Parallel(n_jobs=-1)]: Done  24 tasks      | elapsed:  2.6min\n",
      "C:\\Users\\elind\\Anaconda2\\envs\\py36\\lib\\site-packages\\joblib\\externals\\loky\\process_executor.py:706: UserWarning: A worker stopped while some jobs were given to the executor. This can be caused by a too short worker timeout or by a memory leak.\n",
      "  \"timeout or by a memory leak.\", UserWarning\n",
      "[Parallel(n_jobs=-1)]: Done 100 out of 100 | elapsed: 10.5min finished\n",
      "C:\\Users\\elind\\Anaconda2\\envs\\py36\\lib\\site-packages\\sklearn\\model_selection\\_search.py:814: DeprecationWarning: The default of the `iid` parameter will change from True to False in version 0.22 and will be removed in 0.24. This will change numeric results when test-set sizes are unequal.\n",
      "  DeprecationWarning)\n"
     ]
    },
    {
     "name": "stdout",
     "output_type": "stream",
     "text": [
      "best params: {'c1': 0.09994205843183236, 'c2': 0.0031354463909522567}\n",
      "best CV score: 0.7968316974497829\n",
      "model size: 0.76M\n",
      "              precision    recall  f1-score   support\n",
      "\n",
      "           B      0.868     0.737     0.797       659\n",
      "           I      0.890     0.896     0.893      5396\n",
      "\n",
      "   micro avg      0.888     0.879     0.883      6055\n",
      "   macro avg      0.879     0.817     0.845      6055\n",
      "weighted avg      0.888     0.879     0.883      6055\n",
      "\n",
      "Wall time: 0 ns\n",
      "Fitting 5 folds for each of 20 candidates, totalling 100 fits\n"
     ]
    },
    {
     "name": "stderr",
     "output_type": "stream",
     "text": [
      "[Parallel(n_jobs=-1)]: Using backend LokyBackend with 4 concurrent workers.\n",
      "[Parallel(n_jobs=-1)]: Done  24 tasks      | elapsed:  2.1min\n",
      "C:\\Users\\elind\\Anaconda2\\envs\\py36\\lib\\site-packages\\joblib\\externals\\loky\\process_executor.py:706: UserWarning: A worker stopped while some jobs were given to the executor. This can be caused by a too short worker timeout or by a memory leak.\n",
      "  \"timeout or by a memory leak.\", UserWarning\n",
      "[Parallel(n_jobs=-1)]: Done 100 out of 100 | elapsed:  8.2min finished\n",
      "C:\\Users\\elind\\Anaconda2\\envs\\py36\\lib\\site-packages\\sklearn\\model_selection\\_search.py:814: DeprecationWarning: The default of the `iid` parameter will change from True to False in version 0.22 and will be removed in 0.24. This will change numeric results when test-set sizes are unequal.\n",
      "  DeprecationWarning)\n"
     ]
    },
    {
     "name": "stdout",
     "output_type": "stream",
     "text": [
      "best params: {'c1': 0.4625004326290921, 'c2': 0.01651021565474791}\n",
      "best CV score: 0.8511101903207982\n",
      "model size: 0.40M\n",
      "              precision    recall  f1-score   support\n",
      "\n",
      "           B      0.827     0.651     0.729       645\n",
      "           I      0.832     0.760     0.795      5237\n",
      "\n",
      "   micro avg      0.832     0.748     0.788      5882\n",
      "   macro avg      0.829     0.706     0.762      5882\n",
      "weighted avg      0.832     0.748     0.787      5882\n",
      "\n",
      "Wall time: 0 ns\n",
      "Fitting 5 folds for each of 20 candidates, totalling 100 fits\n"
     ]
    },
    {
     "name": "stderr",
     "output_type": "stream",
     "text": [
      "[Parallel(n_jobs=-1)]: Using backend LokyBackend with 4 concurrent workers.\n",
      "[Parallel(n_jobs=-1)]: Done  24 tasks      | elapsed:  2.8min\n",
      "C:\\Users\\elind\\Anaconda2\\envs\\py36\\lib\\site-packages\\joblib\\externals\\loky\\process_executor.py:706: UserWarning: A worker stopped while some jobs were given to the executor. This can be caused by a too short worker timeout or by a memory leak.\n",
      "  \"timeout or by a memory leak.\", UserWarning\n",
      "[Parallel(n_jobs=-1)]: Done 100 out of 100 | elapsed: 11.1min finished\n",
      "C:\\Users\\elind\\Anaconda2\\envs\\py36\\lib\\site-packages\\sklearn\\model_selection\\_search.py:814: DeprecationWarning: The default of the `iid` parameter will change from True to False in version 0.22 and will be removed in 0.24. This will change numeric results when test-set sizes are unequal.\n",
      "  DeprecationWarning)\n"
     ]
    },
    {
     "name": "stdout",
     "output_type": "stream",
     "text": [
      "best params: {'c1': 0.20013893728929172, 'c2': 0.10918987093464938}\n",
      "best CV score: 0.8256680193340975\n",
      "model size: 0.86M\n",
      "              precision    recall  f1-score   support\n",
      "\n",
      "           B      0.891     0.779     0.832       526\n",
      "           I      0.947     0.869     0.906      4318\n",
      "\n",
      "   micro avg      0.941     0.859     0.898      4844\n",
      "   macro avg      0.919     0.824     0.869      4844\n",
      "weighted avg      0.941     0.859     0.898      4844\n",
      "\n",
      "Wall time: 0 ns\n",
      "Fitting 5 folds for each of 20 candidates, totalling 100 fits\n"
     ]
    },
    {
     "name": "stderr",
     "output_type": "stream",
     "text": [
      "[Parallel(n_jobs=-1)]: Using backend LokyBackend with 4 concurrent workers.\n",
      "[Parallel(n_jobs=-1)]: Done  24 tasks      | elapsed:  3.3min\n",
      "C:\\Users\\elind\\Anaconda2\\envs\\py36\\lib\\site-packages\\joblib\\externals\\loky\\process_executor.py:706: UserWarning: A worker stopped while some jobs were given to the executor. This can be caused by a too short worker timeout or by a memory leak.\n",
      "  \"timeout or by a memory leak.\", UserWarning\n",
      "[Parallel(n_jobs=-1)]: Done 100 out of 100 | elapsed: 13.3min finished\n",
      "C:\\Users\\elind\\Anaconda2\\envs\\py36\\lib\\site-packages\\sklearn\\model_selection\\_search.py:814: DeprecationWarning: The default of the `iid` parameter will change from True to False in version 0.22 and will be removed in 0.24. This will change numeric results when test-set sizes are unequal.\n",
      "  DeprecationWarning)\n"
     ]
    },
    {
     "name": "stdout",
     "output_type": "stream",
     "text": [
      "best params: {'c1': 0.11178404132259695, 'c2': 0.021719064405032122}\n",
      "best CV score: 0.8390795241780442\n",
      "model size: 0.96M\n",
      "              precision    recall  f1-score   support\n",
      "\n",
      "           B      0.904     0.689     0.782       151\n",
      "           I      0.966     0.825     0.890      1216\n",
      "\n",
      "   micro avg      0.960     0.810     0.879      1367\n",
      "   macro avg      0.935     0.757     0.836      1367\n",
      "weighted avg      0.959     0.810     0.878      1367\n",
      "\n",
      "Wall time: 0 ns\n",
      "Fitting 5 folds for each of 20 candidates, totalling 100 fits\n"
     ]
    },
    {
     "name": "stderr",
     "output_type": "stream",
     "text": [
      "[Parallel(n_jobs=-1)]: Using backend LokyBackend with 4 concurrent workers.\n",
      "[Parallel(n_jobs=-1)]: Done  24 tasks      | elapsed:  3.2min\n",
      "C:\\Users\\elind\\Anaconda2\\envs\\py36\\lib\\site-packages\\joblib\\externals\\loky\\process_executor.py:706: UserWarning: A worker stopped while some jobs were given to the executor. This can be caused by a too short worker timeout or by a memory leak.\n",
      "  \"timeout or by a memory leak.\", UserWarning\n",
      "[Parallel(n_jobs=-1)]: Done 100 out of 100 | elapsed: 12.9min finished\n",
      "C:\\Users\\elind\\Anaconda2\\envs\\py36\\lib\\site-packages\\sklearn\\model_selection\\_search.py:814: DeprecationWarning: The default of the `iid` parameter will change from True to False in version 0.22 and will be removed in 0.24. This will change numeric results when test-set sizes are unequal.\n",
      "  DeprecationWarning)\n"
     ]
    },
    {
     "name": "stdout",
     "output_type": "stream",
     "text": [
      "best params: {'c1': 0.2609182280735074, 'c2': 0.026953733586898607}\n",
      "best CV score: 0.8435620433828053\n",
      "model size: 0.89M\n",
      "              precision    recall  f1-score   support\n",
      "\n",
      "           B      0.714     0.575     0.637       113\n",
      "           I      0.826     0.810     0.818       779\n",
      "\n",
      "   micro avg      0.814     0.780     0.797       892\n",
      "   macro avg      0.770     0.693     0.728       892\n",
      "weighted avg      0.812     0.780     0.795       892\n",
      "\n",
      "Wall time: 59min 32s\n"
     ]
    }
   ],
   "source": [
    "%%time\n",
    "main()"
   ]
  },
  {
   "cell_type": "markdown",
   "metadata": {},
   "source": [
    "## Add word length feature"
   ]
  },
  {
   "cell_type": "code",
   "execution_count": 16,
   "metadata": {},
   "outputs": [],
   "source": [
    "def word2features(sent, i):\n",
    "    word = sent[i][0]\n",
    "    postag = sent[i][1]\n",
    "    \n",
    "    features = {\n",
    "        'bias': 1.0,\n",
    "        'word.lower()': word.lower(),\n",
    "        'word[-3:]': word[-3:],\n",
    "        'word[-2:]': word[-2:],\n",
    "        'word.isupper()': word.isupper(),\n",
    "        'word.istitle()': word.istitle(),\n",
    "        'word.isdigit()': word.isdigit(),\n",
    "        'postag': postag,\n",
    "        'postag[:2]': postag[:2],    \n",
    "        'word.length': len(word)\n",
    "    }\n",
    "    if i > 0:\n",
    "        word1 = sent[i-1][0]\n",
    "        postag1 = sent[i-1][1]\n",
    "        features.update({\n",
    "            '-1:word.lower()': word1.lower(),\n",
    "            '-1:word.istitle()': word1.istitle(),\n",
    "            '-1:word.isupper()': word1.isupper(),\n",
    "            '-1:postag': postag1,\n",
    "            '-1:postag[:2]': postag1[:2],\n",
    "            'word.length': len(word)\n",
    "        })\n",
    "    else:\n",
    "        features['BOS'] = True\n",
    "        \n",
    "    if i < len(sent)-1:\n",
    "        word1 = sent[i+1][0]\n",
    "        postag1 = sent[i+1][1]\n",
    "        features.update({\n",
    "            '+1:word.lower()': word1.lower(),\n",
    "            '+1:word.istitle()': word1.istitle(),\n",
    "            '+1:word.isupper()': word1.isupper(),\n",
    "            '+1:postag': postag1,\n",
    "            '+1:postag[:2]': postag1[:2],    \n",
    "            'word.length': len(word)\n",
    "        })\n",
    "    else:\n",
    "        features['EOS'] = True\n",
    "                \n",
    "    return features\n",
    "\n",
    "\n",
    "def sent2features(sent):\n",
    "    return [word2features(sent, i) for i in range(len(sent))]\n",
    "\n",
    "def sent2labels(sent):\n",
    "    return [label for token, postag, label in sent]\n",
    "\n",
    "def sent2tokens(sent):\n",
    "    return [token for token, postag, label in sent]"
   ]
  },
  {
   "cell_type": "code",
   "execution_count": 17,
   "metadata": {},
   "outputs": [
    {
     "name": "stdout",
     "output_type": "stream",
     "text": [
      "Wall time: 0 ns\n",
      "Fitting 5 folds for each of 20 candidates, totalling 100 fits\n"
     ]
    },
    {
     "name": "stderr",
     "output_type": "stream",
     "text": [
      "[Parallel(n_jobs=-1)]: Using backend LokyBackend with 4 concurrent workers.\n",
      "[Parallel(n_jobs=-1)]: Done  24 tasks      | elapsed:  2.7min\n",
      "C:\\Users\\elind\\Anaconda2\\envs\\py36\\lib\\site-packages\\joblib\\externals\\loky\\process_executor.py:706: UserWarning: A worker stopped while some jobs were given to the executor. This can be caused by a too short worker timeout or by a memory leak.\n",
      "  \"timeout or by a memory leak.\", UserWarning\n",
      "[Parallel(n_jobs=-1)]: Done 100 out of 100 | elapsed: 10.7min finished\n",
      "C:\\Users\\elind\\Anaconda2\\envs\\py36\\lib\\site-packages\\sklearn\\model_selection\\_search.py:814: DeprecationWarning: The default of the `iid` parameter will change from True to False in version 0.22 and will be removed in 0.24. This will change numeric results when test-set sizes are unequal.\n",
      "  DeprecationWarning)\n"
     ]
    },
    {
     "name": "stdout",
     "output_type": "stream",
     "text": [
      "best params: {'c1': 0.058685829954342204, 'c2': 0.033091161880681445}\n",
      "best CV score: 0.7961994476827181\n",
      "model size: 1.01M\n",
      "              precision    recall  f1-score   support\n",
      "\n",
      "           B      0.867     0.751     0.805       659\n",
      "           I      0.898     0.905     0.902      5396\n",
      "\n",
      "   micro avg      0.895     0.888     0.892      6055\n",
      "   macro avg      0.883     0.828     0.853      6055\n",
      "weighted avg      0.895     0.888     0.891      6055\n",
      "\n",
      "Wall time: 0 ns\n",
      "Fitting 5 folds for each of 20 candidates, totalling 100 fits\n"
     ]
    },
    {
     "name": "stderr",
     "output_type": "stream",
     "text": [
      "[Parallel(n_jobs=-1)]: Using backend LokyBackend with 4 concurrent workers.\n",
      "[Parallel(n_jobs=-1)]: Done  24 tasks      | elapsed:  2.1min\n",
      "[Parallel(n_jobs=-1)]: Done 100 out of 100 | elapsed:  8.2min finished\n",
      "C:\\Users\\elind\\Anaconda2\\envs\\py36\\lib\\site-packages\\sklearn\\model_selection\\_search.py:814: DeprecationWarning: The default of the `iid` parameter will change from True to False in version 0.22 and will be removed in 0.24. This will change numeric results when test-set sizes are unequal.\n",
      "  DeprecationWarning)\n"
     ]
    },
    {
     "name": "stdout",
     "output_type": "stream",
     "text": [
      "best params: {'c1': 0.5554646362715262, 'c2': 0.007458040699262834}\n",
      "best CV score: 0.8490716061239597\n",
      "model size: 0.35M\n",
      "              precision    recall  f1-score   support\n",
      "\n",
      "           B      0.820     0.650     0.725       645\n",
      "           I      0.834     0.765     0.798      5237\n",
      "\n",
      "   micro avg      0.833     0.752     0.791      5882\n",
      "   macro avg      0.827     0.707     0.762      5882\n",
      "weighted avg      0.833     0.752     0.790      5882\n",
      "\n",
      "Wall time: 0 ns\n",
      "Fitting 5 folds for each of 20 candidates, totalling 100 fits\n"
     ]
    },
    {
     "name": "stderr",
     "output_type": "stream",
     "text": [
      "[Parallel(n_jobs=-1)]: Using backend LokyBackend with 4 concurrent workers.\n",
      "[Parallel(n_jobs=-1)]: Done  24 tasks      | elapsed:  2.8min\n",
      "C:\\Users\\elind\\Anaconda2\\envs\\py36\\lib\\site-packages\\joblib\\externals\\loky\\process_executor.py:706: UserWarning: A worker stopped while some jobs were given to the executor. This can be caused by a too short worker timeout or by a memory leak.\n",
      "  \"timeout or by a memory leak.\", UserWarning\n",
      "[Parallel(n_jobs=-1)]: Done 100 out of 100 | elapsed: 11.1min finished\n",
      "C:\\Users\\elind\\Anaconda2\\envs\\py36\\lib\\site-packages\\sklearn\\model_selection\\_search.py:814: DeprecationWarning: The default of the `iid` parameter will change from True to False in version 0.22 and will be removed in 0.24. This will change numeric results when test-set sizes are unequal.\n",
      "  DeprecationWarning)\n"
     ]
    },
    {
     "name": "stdout",
     "output_type": "stream",
     "text": [
      "best params: {'c1': 0.1394539618476601, 'c2': 0.10611580645486243}\n",
      "best CV score: 0.8257067270205494\n",
      "model size: 0.99M\n",
      "              precision    recall  f1-score   support\n",
      "\n",
      "           B      0.888     0.768     0.824       526\n",
      "           I      0.946     0.852     0.897      4318\n",
      "\n",
      "   micro avg      0.940     0.843     0.889      4844\n",
      "   macro avg      0.917     0.810     0.860      4844\n",
      "weighted avg      0.939     0.843     0.889      4844\n",
      "\n",
      "Wall time: 0 ns\n",
      "Fitting 5 folds for each of 20 candidates, totalling 100 fits\n"
     ]
    },
    {
     "name": "stderr",
     "output_type": "stream",
     "text": [
      "[Parallel(n_jobs=-1)]: Using backend LokyBackend with 4 concurrent workers.\n",
      "[Parallel(n_jobs=-1)]: Done  24 tasks      | elapsed:  3.3min\n",
      "C:\\Users\\elind\\Anaconda2\\envs\\py36\\lib\\site-packages\\joblib\\externals\\loky\\process_executor.py:706: UserWarning: A worker stopped while some jobs were given to the executor. This can be caused by a too short worker timeout or by a memory leak.\n",
      "  \"timeout or by a memory leak.\", UserWarning\n",
      "[Parallel(n_jobs=-1)]: Done 100 out of 100 | elapsed: 13.3min finished\n",
      "C:\\Users\\elind\\Anaconda2\\envs\\py36\\lib\\site-packages\\sklearn\\model_selection\\_search.py:814: DeprecationWarning: The default of the `iid` parameter will change from True to False in version 0.22 and will be removed in 0.24. This will change numeric results when test-set sizes are unequal.\n",
      "  DeprecationWarning)\n"
     ]
    },
    {
     "name": "stdout",
     "output_type": "stream",
     "text": [
      "best params: {'c1': 0.2434861513225541, 'c2': 0.049802382698524536}\n",
      "best CV score: 0.8268774886538308\n",
      "model size: 0.78M\n",
      "              precision    recall  f1-score   support\n",
      "\n",
      "           B      0.908     0.722     0.804       151\n",
      "           I      0.957     0.840     0.894      1216\n",
      "\n",
      "   micro avg      0.952     0.827     0.885      1367\n",
      "   macro avg      0.933     0.781     0.849      1367\n",
      "weighted avg      0.952     0.827     0.884      1367\n",
      "\n",
      "Wall time: 0 ns\n",
      "Fitting 5 folds for each of 20 candidates, totalling 100 fits\n"
     ]
    },
    {
     "name": "stderr",
     "output_type": "stream",
     "text": [
      "[Parallel(n_jobs=-1)]: Using backend LokyBackend with 4 concurrent workers.\n",
      "[Parallel(n_jobs=-1)]: Done  24 tasks      | elapsed:  3.2min\n",
      "C:\\Users\\elind\\Anaconda2\\envs\\py36\\lib\\site-packages\\joblib\\externals\\loky\\process_executor.py:706: UserWarning: A worker stopped while some jobs were given to the executor. This can be caused by a too short worker timeout or by a memory leak.\n",
      "  \"timeout or by a memory leak.\", UserWarning\n",
      "[Parallel(n_jobs=-1)]: Done 100 out of 100 | elapsed: 12.9min finished\n",
      "C:\\Users\\elind\\Anaconda2\\envs\\py36\\lib\\site-packages\\sklearn\\model_selection\\_search.py:814: DeprecationWarning: The default of the `iid` parameter will change from True to False in version 0.22 and will be removed in 0.24. This will change numeric results when test-set sizes are unequal.\n",
      "  DeprecationWarning)\n"
     ]
    },
    {
     "name": "stdout",
     "output_type": "stream",
     "text": [
      "best params: {'c1': 0.16367881409705692, 'c2': 0.014749670934174628}\n",
      "best CV score: 0.8452395547461986\n",
      "model size: 1.07M\n",
      "              precision    recall  f1-score   support\n",
      "\n",
      "           B      0.685     0.540     0.604       113\n",
      "           I      0.825     0.780     0.802       779\n",
      "\n",
      "   micro avg      0.810     0.750     0.779       892\n",
      "   macro avg      0.755     0.660     0.703       892\n",
      "weighted avg      0.807     0.750     0.777       892\n",
      "\n",
      "Wall time: 59min 35s\n"
     ]
    }
   ],
   "source": [
    "%%time\n",
    "main()"
   ]
  },
  {
   "cell_type": "markdown",
   "metadata": {},
   "source": [
    "## Add symbol feature"
   ]
  },
  {
   "cell_type": "code",
   "execution_count": 18,
   "metadata": {},
   "outputs": [],
   "source": [
    "def check_symbol(word):\n",
    "    string_check= re.compile('[@_!#$%^&*()<>?/\\|}{~:]') \n",
    "    if string_check.search(word) == None:\n",
    "        return False\n",
    "    else :\n",
    "        return True"
   ]
  },
  {
   "cell_type": "code",
   "execution_count": 19,
   "metadata": {},
   "outputs": [],
   "source": [
    "def word2features(sent, i):\n",
    "    word = sent[i][0]\n",
    "    postag = sent[i][1]\n",
    "    \n",
    "    features = {\n",
    "        'bias': 1.0,\n",
    "        'word.lower()': word.lower(),\n",
    "        'word[-3:]': word[-3:],\n",
    "        'word[-2:]': word[-2:],\n",
    "        'word.isupper()': word.isupper(),\n",
    "        'word.istitle()': word.istitle(),\n",
    "        'word.isdigit()': word.isdigit(),\n",
    "        'postag': postag,\n",
    "        'postag[:2]': postag[:2], \n",
    "        'word.containssympol()': check_symbol(word)\n",
    "    }\n",
    "    if i > 0:\n",
    "        word1 = sent[i-1][0]\n",
    "        postag1 = sent[i-1][1]\n",
    "        features.update({\n",
    "            '-1:word.lower()': word1.lower(),\n",
    "            '-1:word.istitle()': word1.istitle(),\n",
    "            '-1:word.isupper()': word1.isupper(),\n",
    "            '-1:postag': postag1,\n",
    "            '-1:postag[:2]': postag1[:2],\n",
    "            'word.containssympol()': check_symbol(word)\n",
    "        })\n",
    "    else:\n",
    "        features['BOS'] = True\n",
    "        \n",
    "    if i < len(sent)-1:\n",
    "        word1 = sent[i+1][0]\n",
    "        postag1 = sent[i+1][1]\n",
    "        features.update({\n",
    "            '+1:word.lower()': word1.lower(),\n",
    "            '+1:word.istitle()': word1.istitle(),\n",
    "            '+1:word.isupper()': word1.isupper(),\n",
    "            '+1:postag': postag1,\n",
    "            '+1:postag[:2]': postag1[:2],   \n",
    "            'word.containssympol()': check_symbol(word) \n",
    "        })\n",
    "    else:\n",
    "        features['EOS'] = True\n",
    "                \n",
    "    return features\n",
    "\n",
    "\n",
    "def sent2features(sent):\n",
    "    return [word2features(sent, i) for i in range(len(sent))]\n",
    "\n",
    "def sent2labels(sent):\n",
    "    return [label for token, postag, label in sent]\n",
    "\n",
    "def sent2tokens(sent):\n",
    "    return [token for token, postag, label in sent]"
   ]
  },
  {
   "cell_type": "code",
   "execution_count": 20,
   "metadata": {},
   "outputs": [
    {
     "name": "stdout",
     "output_type": "stream",
     "text": [
      "Wall time: 0 ns\n",
      "Fitting 5 folds for each of 20 candidates, totalling 100 fits\n"
     ]
    },
    {
     "name": "stderr",
     "output_type": "stream",
     "text": [
      "[Parallel(n_jobs=-1)]: Using backend LokyBackend with 4 concurrent workers.\n",
      "[Parallel(n_jobs=-1)]: Done  24 tasks      | elapsed:  2.6min\n",
      "C:\\Users\\elind\\Anaconda2\\envs\\py36\\lib\\site-packages\\joblib\\externals\\loky\\process_executor.py:706: UserWarning: A worker stopped while some jobs were given to the executor. This can be caused by a too short worker timeout or by a memory leak.\n",
      "  \"timeout or by a memory leak.\", UserWarning\n",
      "[Parallel(n_jobs=-1)]: Done 100 out of 100 | elapsed: 10.7min finished\n",
      "C:\\Users\\elind\\Anaconda2\\envs\\py36\\lib\\site-packages\\sklearn\\model_selection\\_search.py:814: DeprecationWarning: The default of the `iid` parameter will change from True to False in version 0.22 and will be removed in 0.24. This will change numeric results when test-set sizes are unequal.\n",
      "  DeprecationWarning)\n"
     ]
    },
    {
     "name": "stdout",
     "output_type": "stream",
     "text": [
      "best params: {'c1': 0.09847835964730725, 'c2': 0.046092110683638894}\n",
      "best CV score: 0.7987941201501875\n",
      "model size: 0.84M\n",
      "              precision    recall  f1-score   support\n",
      "\n",
      "           B      0.868     0.756     0.808       659\n",
      "           I      0.895     0.893     0.894      5396\n",
      "\n",
      "   micro avg      0.892     0.878     0.885      6055\n",
      "   macro avg      0.881     0.824     0.851      6055\n",
      "weighted avg      0.892     0.878     0.884      6055\n",
      "\n",
      "Wall time: 0 ns\n",
      "Fitting 5 folds for each of 20 candidates, totalling 100 fits\n"
     ]
    },
    {
     "name": "stderr",
     "output_type": "stream",
     "text": [
      "[Parallel(n_jobs=-1)]: Using backend LokyBackend with 4 concurrent workers.\n",
      "[Parallel(n_jobs=-1)]: Done  24 tasks      | elapsed:  2.1min\n",
      "C:\\Users\\elind\\Anaconda2\\envs\\py36\\lib\\site-packages\\joblib\\externals\\loky\\process_executor.py:706: UserWarning: A worker stopped while some jobs were given to the executor. This can be caused by a too short worker timeout or by a memory leak.\n",
      "  \"timeout or by a memory leak.\", UserWarning\n",
      "[Parallel(n_jobs=-1)]: Done 100 out of 100 | elapsed:  8.4min finished\n",
      "C:\\Users\\elind\\Anaconda2\\envs\\py36\\lib\\site-packages\\sklearn\\model_selection\\_search.py:814: DeprecationWarning: The default of the `iid` parameter will change from True to False in version 0.22 and will be removed in 0.24. This will change numeric results when test-set sizes are unequal.\n",
      "  DeprecationWarning)\n"
     ]
    },
    {
     "name": "stdout",
     "output_type": "stream",
     "text": [
      "best params: {'c1': 0.07230473105888094, 'c2': 0.006372493871530139}\n",
      "best CV score: 0.8473722333337108\n",
      "model size: 0.74M\n",
      "              precision    recall  f1-score   support\n",
      "\n",
      "           B      0.805     0.678     0.736       645\n",
      "           I      0.819     0.769     0.793      5237\n",
      "\n",
      "   micro avg      0.818     0.759     0.787      5882\n",
      "   macro avg      0.812     0.723     0.764      5882\n",
      "weighted avg      0.818     0.759     0.787      5882\n",
      "\n",
      "Wall time: 0 ns\n",
      "Fitting 5 folds for each of 20 candidates, totalling 100 fits\n"
     ]
    },
    {
     "name": "stderr",
     "output_type": "stream",
     "text": [
      "[Parallel(n_jobs=-1)]: Using backend LokyBackend with 4 concurrent workers.\n",
      "[Parallel(n_jobs=-1)]: Done  24 tasks      | elapsed:  2.8min\n",
      "C:\\Users\\elind\\Anaconda2\\envs\\py36\\lib\\site-packages\\joblib\\externals\\loky\\process_executor.py:706: UserWarning: A worker stopped while some jobs were given to the executor. This can be caused by a too short worker timeout or by a memory leak.\n",
      "  \"timeout or by a memory leak.\", UserWarning\n",
      "[Parallel(n_jobs=-1)]: Done 100 out of 100 | elapsed: 11.3min finished\n",
      "C:\\Users\\elind\\Anaconda2\\envs\\py36\\lib\\site-packages\\sklearn\\model_selection\\_search.py:814: DeprecationWarning: The default of the `iid` parameter will change from True to False in version 0.22 and will be removed in 0.24. This will change numeric results when test-set sizes are unequal.\n",
      "  DeprecationWarning)\n"
     ]
    },
    {
     "name": "stdout",
     "output_type": "stream",
     "text": [
      "best params: {'c1': 0.13443209007021212, 'c2': 0.12271300755937305}\n",
      "best CV score: 0.8226926335335174\n",
      "model size: 1.03M\n",
      "              precision    recall  f1-score   support\n",
      "\n",
      "           B      0.885     0.760     0.818       526\n",
      "           I      0.946     0.852     0.897      4318\n",
      "\n",
      "   micro avg      0.940     0.842     0.888      4844\n",
      "   macro avg      0.915     0.806     0.857      4844\n",
      "weighted avg      0.939     0.842     0.888      4844\n",
      "\n",
      "Wall time: 0 ns\n",
      "Fitting 5 folds for each of 20 candidates, totalling 100 fits\n"
     ]
    },
    {
     "name": "stderr",
     "output_type": "stream",
     "text": [
      "[Parallel(n_jobs=-1)]: Using backend LokyBackend with 4 concurrent workers.\n",
      "[Parallel(n_jobs=-1)]: Done  24 tasks      | elapsed:  3.4min\n",
      "C:\\Users\\elind\\Anaconda2\\envs\\py36\\lib\\site-packages\\joblib\\externals\\loky\\process_executor.py:706: UserWarning: A worker stopped while some jobs were given to the executor. This can be caused by a too short worker timeout or by a memory leak.\n",
      "  \"timeout or by a memory leak.\", UserWarning\n",
      "[Parallel(n_jobs=-1)]: Done 100 out of 100 | elapsed: 13.3min finished\n",
      "C:\\Users\\elind\\Anaconda2\\envs\\py36\\lib\\site-packages\\sklearn\\model_selection\\_search.py:814: DeprecationWarning: The default of the `iid` parameter will change from True to False in version 0.22 and will be removed in 0.24. This will change numeric results when test-set sizes are unequal.\n",
      "  DeprecationWarning)\n"
     ]
    },
    {
     "name": "stdout",
     "output_type": "stream",
     "text": [
      "best params: {'c1': 0.06608143283498547, 'c2': 0.0013969005865775385}\n",
      "best CV score: 0.8313923462872839\n",
      "model size: 1.02M\n",
      "              precision    recall  f1-score   support\n",
      "\n",
      "           B      0.889     0.689     0.776       151\n",
      "           I      0.953     0.857     0.903      1216\n",
      "\n",
      "   micro avg      0.947     0.838     0.889      1367\n",
      "   macro avg      0.921     0.773     0.839      1367\n",
      "weighted avg      0.946     0.838     0.889      1367\n",
      "\n",
      "Wall time: 0 ns\n",
      "Fitting 5 folds for each of 20 candidates, totalling 100 fits\n"
     ]
    },
    {
     "name": "stderr",
     "output_type": "stream",
     "text": [
      "[Parallel(n_jobs=-1)]: Using backend LokyBackend with 4 concurrent workers.\n",
      "[Parallel(n_jobs=-1)]: Done  24 tasks      | elapsed:  3.2min\n",
      "C:\\Users\\elind\\Anaconda2\\envs\\py36\\lib\\site-packages\\joblib\\externals\\loky\\process_executor.py:706: UserWarning: A worker stopped while some jobs were given to the executor. This can be caused by a too short worker timeout or by a memory leak.\n",
      "  \"timeout or by a memory leak.\", UserWarning\n",
      "[Parallel(n_jobs=-1)]: Done 100 out of 100 | elapsed: 13.0min finished\n",
      "C:\\Users\\elind\\Anaconda2\\envs\\py36\\lib\\site-packages\\sklearn\\model_selection\\_search.py:814: DeprecationWarning: The default of the `iid` parameter will change from True to False in version 0.22 and will be removed in 0.24. This will change numeric results when test-set sizes are unequal.\n",
      "  DeprecationWarning)\n"
     ]
    },
    {
     "name": "stdout",
     "output_type": "stream",
     "text": [
      "best params: {'c1': 0.13160091402169588, 'c2': 0.0022840643480738993}\n",
      "best CV score: 0.8444922976623161\n",
      "model size: 1.33M\n",
      "              precision    recall  f1-score   support\n",
      "\n",
      "           B      0.656     0.522     0.581       113\n",
      "           I      0.829     0.770     0.798       779\n",
      "\n",
      "   micro avg      0.810     0.739     0.773       892\n",
      "   macro avg      0.742     0.646     0.690       892\n",
      "weighted avg      0.807     0.739     0.771       892\n",
      "\n",
      "Wall time: 1h 13s\n"
     ]
    }
   ],
   "source": [
    "%%time\n",
    "main()"
   ]
  },
  {
   "cell_type": "markdown",
   "metadata": {},
   "source": [
    "## Larger context"
   ]
  },
  {
   "cell_type": "code",
   "execution_count": 21,
   "metadata": {},
   "outputs": [],
   "source": [
    "def word2features(sent, i):\n",
    "    word = sent[i][0]\n",
    "    postag = sent[i][1]\n",
    "    \n",
    "    features = {\n",
    "        'bias': 1.0,\n",
    "        'word.lower()': word.lower(),\n",
    "        'word[-3:]': word[-3:],\n",
    "        'word[-2:]': word[-2:],\n",
    "        'word.isupper()': word.isupper(),\n",
    "        'word.istitle()': word.istitle(),\n",
    "        'word.isdigit()': word.isdigit(),\n",
    "        'postag': postag,\n",
    "        'postag[:2]': postag[:2],    \n",
    "    }\n",
    "    if i > 0:\n",
    "        word1 = sent[i-2][0]\n",
    "        postag1 = sent[i-2][1]\n",
    "        features.update({\n",
    "            '-1:word.lower()': word1.lower(),\n",
    "            '-1:word.istitle()': word1.istitle(),\n",
    "            '-1:word.isupper()': word1.isupper(),\n",
    "            '-1:postag': postag1,\n",
    "            '-1:postag[:2]': postag1[:2],\n",
    "            'word.length': len(word)\n",
    "        })\n",
    "    else:\n",
    "        features['BOS'] = True\n",
    "        \n",
    "    if i > 1:\n",
    "        word1 = sent[i-1][0]\n",
    "        postag1 = sent[i-1][1]\n",
    "        features.update({\n",
    "            '-1:word.lower()': word1.lower(),\n",
    "            '-1:word.istitle()': word1.istitle(),\n",
    "            '-1:word.isupper()': word1.isupper(),\n",
    "            '-1:postag': postag1,\n",
    "            '-1:postag[:2]': postag1[:2],\n",
    "            'word.length': len(word)\n",
    "        })\n",
    "        \n",
    "    if i < len(sent)-1:\n",
    "        word1 = sent[i+1][0]\n",
    "        postag1 = sent[i+1][1]\n",
    "        features.update({\n",
    "            '+1:word.lower()': word1.lower(),\n",
    "            '+1:word.istitle()': word1.istitle(),\n",
    "            '+1:word.isupper()': word1.isupper(),\n",
    "            '+1:postag': postag1,\n",
    "            '+1:postag[:2]': postag1[:2],    \n",
    "            'word.length': len(word)\n",
    "        })\n",
    "    else:\n",
    "        features['EOS'] = True\n",
    "        \n",
    "    if i < len(sent)-2:\n",
    "        word1 = sent[i+2][0]\n",
    "        postag1 = sent[i+2][1]\n",
    "        features.update({\n",
    "            '+1:word.lower()': word1.lower(),\n",
    "            '+1:word.istitle()': word1.istitle(),\n",
    "            '+1:word.isupper()': word1.isupper(),\n",
    "            '+1:postag': postag1,\n",
    "            '+1:postag[:2]': postag1[:2],    \n",
    "            'word.length': len(word)\n",
    "        })\n",
    "                \n",
    "    return features\n",
    "\n",
    "\n",
    "def sent2features(sent):\n",
    "    return [word2features(sent, i) for i in range(len(sent))]\n",
    "\n",
    "def sent2labels(sent):\n",
    "    return [label for token, postag, label in sent]\n",
    "\n",
    "def sent2tokens(sent):\n",
    "    return [token for token, postag, label in sent]"
   ]
  },
  {
   "cell_type": "code",
   "execution_count": 22,
   "metadata": {},
   "outputs": [
    {
     "name": "stdout",
     "output_type": "stream",
     "text": [
      "Wall time: 0 ns\n",
      "Fitting 5 folds for each of 20 candidates, totalling 100 fits\n"
     ]
    },
    {
     "name": "stderr",
     "output_type": "stream",
     "text": [
      "[Parallel(n_jobs=-1)]: Using backend LokyBackend with 4 concurrent workers.\n",
      "[Parallel(n_jobs=-1)]: Done  24 tasks      | elapsed:  2.7min\n",
      "C:\\Users\\elind\\Anaconda2\\envs\\py36\\lib\\site-packages\\joblib\\externals\\loky\\process_executor.py:706: UserWarning: A worker stopped while some jobs were given to the executor. This can be caused by a too short worker timeout or by a memory leak.\n",
      "  \"timeout or by a memory leak.\", UserWarning\n",
      "[Parallel(n_jobs=-1)]: Done 100 out of 100 | elapsed: 10.7min finished\n",
      "C:\\Users\\elind\\Anaconda2\\envs\\py36\\lib\\site-packages\\sklearn\\model_selection\\_search.py:814: DeprecationWarning: The default of the `iid` parameter will change from True to False in version 0.22 and will be removed in 0.24. This will change numeric results when test-set sizes are unequal.\n",
      "  DeprecationWarning)\n"
     ]
    },
    {
     "name": "stdout",
     "output_type": "stream",
     "text": [
      "best params: {'c1': 0.08969621003142562, 'c2': 0.02617614820775061}\n",
      "best CV score: 0.7968614175738585\n",
      "model size: 0.86M\n",
      "              precision    recall  f1-score   support\n",
      "\n",
      "           B      0.863     0.747     0.801       659\n",
      "           I      0.896     0.891     0.894      5396\n",
      "\n",
      "   micro avg      0.893     0.875     0.884      6055\n",
      "   macro avg      0.880     0.819     0.847      6055\n",
      "weighted avg      0.893     0.875     0.884      6055\n",
      "\n",
      "Wall time: 0 ns\n",
      "Fitting 5 folds for each of 20 candidates, totalling 100 fits\n"
     ]
    },
    {
     "name": "stderr",
     "output_type": "stream",
     "text": [
      "[Parallel(n_jobs=-1)]: Using backend LokyBackend with 4 concurrent workers.\n",
      "[Parallel(n_jobs=-1)]: Done  24 tasks      | elapsed:  2.1min\n",
      "C:\\Users\\elind\\Anaconda2\\envs\\py36\\lib\\site-packages\\joblib\\externals\\loky\\process_executor.py:706: UserWarning: A worker stopped while some jobs were given to the executor. This can be caused by a too short worker timeout or by a memory leak.\n",
      "  \"timeout or by a memory leak.\", UserWarning\n",
      "[Parallel(n_jobs=-1)]: Done 100 out of 100 | elapsed:  8.3min finished\n",
      "C:\\Users\\elind\\Anaconda2\\envs\\py36\\lib\\site-packages\\sklearn\\model_selection\\_search.py:814: DeprecationWarning: The default of the `iid` parameter will change from True to False in version 0.22 and will be removed in 0.24. This will change numeric results when test-set sizes are unequal.\n",
      "  DeprecationWarning)\n"
     ]
    },
    {
     "name": "stdout",
     "output_type": "stream",
     "text": [
      "best params: {'c1': 0.09166776445766867, 'c2': 0.0337860262022205}\n",
      "best CV score: 0.8410120904398518\n",
      "model size: 0.75M\n",
      "              precision    recall  f1-score   support\n",
      "\n",
      "           B      0.800     0.678     0.734       645\n",
      "           I      0.809     0.773     0.791      5237\n",
      "\n",
      "   micro avg      0.808     0.762     0.785      5882\n",
      "   macro avg      0.805     0.725     0.762      5882\n",
      "weighted avg      0.808     0.762     0.784      5882\n",
      "\n",
      "Wall time: 0 ns\n",
      "Fitting 5 folds for each of 20 candidates, totalling 100 fits\n"
     ]
    },
    {
     "name": "stderr",
     "output_type": "stream",
     "text": [
      "[Parallel(n_jobs=-1)]: Using backend LokyBackend with 4 concurrent workers.\n",
      "[Parallel(n_jobs=-1)]: Done  24 tasks      | elapsed:  2.8min\n",
      "C:\\Users\\elind\\Anaconda2\\envs\\py36\\lib\\site-packages\\joblib\\externals\\loky\\process_executor.py:706: UserWarning: A worker stopped while some jobs were given to the executor. This can be caused by a too short worker timeout or by a memory leak.\n",
      "  \"timeout or by a memory leak.\", UserWarning\n",
      "[Parallel(n_jobs=-1)]: Done 100 out of 100 | elapsed: 11.1min finished\n",
      "C:\\Users\\elind\\Anaconda2\\envs\\py36\\lib\\site-packages\\sklearn\\model_selection\\_search.py:814: DeprecationWarning: The default of the `iid` parameter will change from True to False in version 0.22 and will be removed in 0.24. This will change numeric results when test-set sizes are unequal.\n",
      "  DeprecationWarning)\n"
     ]
    },
    {
     "name": "stdout",
     "output_type": "stream",
     "text": [
      "best params: {'c1': 0.08454514519418253, 'c2': 0.036026515932323304}\n",
      "best CV score: 0.8255677168856652\n",
      "model size: 1.04M\n",
      "              precision    recall  f1-score   support\n",
      "\n",
      "           B      0.892     0.768     0.825       526\n",
      "           I      0.947     0.859     0.901      4318\n",
      "\n",
      "   micro avg      0.941     0.849     0.893      4844\n",
      "   macro avg      0.919     0.814     0.863      4844\n",
      "weighted avg      0.941     0.849     0.893      4844\n",
      "\n",
      "Wall time: 0 ns\n",
      "Fitting 5 folds for each of 20 candidates, totalling 100 fits\n"
     ]
    },
    {
     "name": "stderr",
     "output_type": "stream",
     "text": [
      "[Parallel(n_jobs=-1)]: Using backend LokyBackend with 4 concurrent workers.\n",
      "[Parallel(n_jobs=-1)]: Done  24 tasks      | elapsed:  3.3min\n",
      "C:\\Users\\elind\\Anaconda2\\envs\\py36\\lib\\site-packages\\joblib\\externals\\loky\\process_executor.py:706: UserWarning: A worker stopped while some jobs were given to the executor. This can be caused by a too short worker timeout or by a memory leak.\n",
      "  \"timeout or by a memory leak.\", UserWarning\n",
      "[Parallel(n_jobs=-1)]: Done 100 out of 100 | elapsed: 13.3min finished\n",
      "C:\\Users\\elind\\Anaconda2\\envs\\py36\\lib\\site-packages\\sklearn\\model_selection\\_search.py:814: DeprecationWarning: The default of the `iid` parameter will change from True to False in version 0.22 and will be removed in 0.24. This will change numeric results when test-set sizes are unequal.\n",
      "  DeprecationWarning)\n"
     ]
    },
    {
     "name": "stdout",
     "output_type": "stream",
     "text": [
      "best params: {'c1': 0.17869140625447832, 'c2': 0.055418872246143794}\n",
      "best CV score: 0.8361235985366412\n",
      "model size: 0.96M\n",
      "              precision    recall  f1-score   support\n",
      "\n",
      "           B      0.893     0.715     0.794       151\n",
      "           I      0.955     0.840     0.894      1216\n",
      "\n",
      "   micro avg      0.949     0.827     0.884      1367\n",
      "   macro avg      0.924     0.778     0.844      1367\n",
      "weighted avg      0.948     0.827     0.883      1367\n",
      "\n",
      "Wall time: 0 ns\n",
      "Fitting 5 folds for each of 20 candidates, totalling 100 fits\n"
     ]
    },
    {
     "name": "stderr",
     "output_type": "stream",
     "text": [
      "[Parallel(n_jobs=-1)]: Using backend LokyBackend with 4 concurrent workers.\n",
      "[Parallel(n_jobs=-1)]: Done  24 tasks      | elapsed:  3.2min\n",
      "C:\\Users\\elind\\Anaconda2\\envs\\py36\\lib\\site-packages\\joblib\\externals\\loky\\process_executor.py:706: UserWarning: A worker stopped while some jobs were given to the executor. This can be caused by a too short worker timeout or by a memory leak.\n",
      "  \"timeout or by a memory leak.\", UserWarning\n",
      "[Parallel(n_jobs=-1)]: Done 100 out of 100 | elapsed: 12.9min finished\n",
      "C:\\Users\\elind\\Anaconda2\\envs\\py36\\lib\\site-packages\\sklearn\\model_selection\\_search.py:814: DeprecationWarning: The default of the `iid` parameter will change from True to False in version 0.22 and will be removed in 0.24. This will change numeric results when test-set sizes are unequal.\n",
      "  DeprecationWarning)\n"
     ]
    },
    {
     "name": "stdout",
     "output_type": "stream",
     "text": [
      "best params: {'c1': 0.23481528589465045, 'c2': 0.016768022530698593}\n",
      "best CV score: 0.8446651314039717\n",
      "model size: 0.92M\n",
      "              precision    recall  f1-score   support\n",
      "\n",
      "           B      0.736     0.566     0.640       113\n",
      "           I      0.839     0.816     0.828       779\n",
      "\n",
      "   micro avg      0.828     0.785     0.806       892\n",
      "   macro avg      0.787     0.691     0.734       892\n",
      "weighted avg      0.826     0.785     0.804       892\n",
      "\n",
      "Wall time: 59min 47s\n"
     ]
    }
   ],
   "source": [
    "%%time\n",
    "main()"
   ]
  },
  {
   "cell_type": "code",
   "execution_count": null,
   "metadata": {},
   "outputs": [],
   "source": []
  },
  {
   "cell_type": "code",
   "execution_count": null,
   "metadata": {},
   "outputs": [],
   "source": [
    "# def main():\n",
    "#     data = load_process_data()\n",
    "#     crflist = []\n",
    "#     group_kfold = GroupKFold(n_splits=5)\n",
    "#     for train_index, test_index in group_kfold.split(data, groups = list(range(22))):\n",
    "#         print(\"TRAIN DOCS:\", train_index, \"TEST DOCS:\", test_index)\n",
    "#         X_train, X_test = np.array(data)[train_index], np.array(data)[test_index]\n",
    "#         print(\"Size training set:\", len(X_train), \"Size test set:\", len(X_test))\n",
    "        \n",
    "#         X_train, y_train, X_test, y_test = extract_features(X_train, X_test)\n",
    "#         crf_fit = train(X_train, y_train)\n",
    "#         y_pred, labels = evaluate(crf_fit, X_test, y_test)\n",
    "#         best_crf = hyperparameter_search(X_train, y_train, labels)\n",
    "#         crflist.append(best_crf)\n",
    "#         evaluate(best_crf, X_test, y_test)\n",
    "    \n",
    "#         print(\"Likeliness of transitions:\")\n",
    "#         print_transitions(Counter(crf_fit.transition_features_).most_common(20))\n",
    "#         print(\"Top positive:\")\n",
    "#         print_state_features(Counter(crf_fit.state_features_).most_common(20))\n",
    "    "
   ]
  },
  {
   "cell_type": "code",
   "execution_count": null,
   "metadata": {},
   "outputs": [],
   "source": [
    "# def main():\n",
    "#     data = load_process_data()\n",
    "#     train_index = list(range(18))\n",
    "#     test_index = [18, 19, 20, 21]\n",
    "#     X_train, X_test = np.array(data)[train_index], np.array(data)[test_index]\n",
    "#     print(\"Size training set:\", len(X_train), \"Size test set:\", len(X_test))\n",
    "#     X_train, y_train, X_test, y_test = extract_features(X_train, X_test)\n",
    "# #     data_exploration(data, X_train, y_train, X_test, y_test)\n",
    "#     crf_fit = train(X_train, y_train)\n",
    "#     y_pred, labels = evaluate(crf_fit, X_test, y_test)\n",
    "#     best_crf = hyperparameter_search(X_train, y_train, labels)\n",
    "#     evaluate(best_crf, X_test, y_test)\n",
    "\n",
    "# #     print(\"Likeliness of transitions:\")\n",
    "# #     print_transitions(Counter(best_crf.transition_features_).most_common(20))\n",
    "# #     print(\"Top positive:\")\n",
    "# #     print_state_features(Counter(best_crf.state_features_).most_common(20))\n",
    "    \n",
    "# #     return best_crf"
   ]
  }
 ],
 "metadata": {
  "kernelspec": {
   "display_name": "Python 3",
   "language": "python",
   "name": "python3"
  },
  "language_info": {
   "codemirror_mode": {
    "name": "ipython",
    "version": 3
   },
   "file_extension": ".py",
   "mimetype": "text/x-python",
   "name": "python",
   "nbconvert_exporter": "python",
   "pygments_lexer": "ipython3",
   "version": "3.6.8"
  }
 },
 "nbformat": 4,
 "nbformat_minor": 1
}
